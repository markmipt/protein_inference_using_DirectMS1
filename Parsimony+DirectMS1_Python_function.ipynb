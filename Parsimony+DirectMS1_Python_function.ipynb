{
 "cells": [
  {
   "cell_type": "code",
   "execution_count": 3,
   "metadata": {},
   "outputs": [],
   "source": [
    "import pandas as pd"
   ]
  },
  {
   "cell_type": "code",
   "execution_count": 4,
   "metadata": {},
   "outputs": [],
   "source": [
    "def add_protein_groups(df, df_ms1_path, sort_random=True):\n",
    "    # input: df - pandas dataframe which contains columns \"dbname\" with protein names and \n",
    "    #        \"peptides set\" with set of peptide sequences belong to this protein and identified in MS/MS analysis. \n",
    "    #        df_ms1_path - path to the table *_proteins_full_noexclusion.tsv which is output by DirectMS1 analysis.\n",
    "    #        sort_random - if True, the proteins with same scores are chosen randomly. Otherwise, they are chosen\n",
    "    #        in alphabetical order.\n",
    "    # output: pandas dataframe with new columns \"groupleader\" (True for protein group leaders) and \n",
    "    #         \"all proteins\" (list of proteins belong to protein group and separeted by ';')\n",
    "    \n",
    "    pept_prots = defaultdict(set)\n",
    "    prot_prots = defaultdict(set)\n",
    "    prot_pepts = dict()\n",
    "    if not sort_random:\n",
    "        iter_list = df.sort_values(by='dbname').reset_index(drop=True)[['peptides set', 'dbname']].values\n",
    "    else:\n",
    "        iter_list = df.sample(frac=1).reset_index(drop=True)[['peptides set', 'dbname']].values\n",
    "    for peptides, dbname in iter_list:\n",
    "        prot_pepts[dbname] = peptides\n",
    "        for peptide in peptides:\n",
    "            pept_prots[peptide].add(dbname)\n",
    "    for prots in pept_prots.values():\n",
    "        for dbname in prots:\n",
    "            prot_prots[dbname].update(prots)\n",
    "    prot_pepts_count = dict()\n",
    "    prot_pepts_count2 = dict()\n",
    "    \n",
    "    if not df_ms1_path:\n",
    "        for k, v in prot_pepts.items():\n",
    "            prot_pepts_count[k] = len(v)\n",
    "            prot_pepts_count2[k] = len(v)\n",
    "\n",
    "    else:\n",
    "        df_ms1 = pd.read_csv(df_ms1_path, sep='\\t')\n",
    "        ms1s = dict()\n",
    "        for qval, prot in df_ms1[['score', 'dbname']].values:\n",
    "            ms1s[prot] = float(qval)\n",
    "\n",
    "        max_k = max(ms1s.values())\n",
    "        for k, v in prot_pepts.items():\n",
    "            prot_pepts_count[k] = len(v) + ms1s.get(k, 0) / max_k\n",
    "            prot_pepts_count2[k] = len(v)\n",
    "    tostay = set()\n",
    "    while pept_prots:\n",
    "        bestprot = keywithmaxval(prot_pepts_count)\n",
    "        tostay.add(bestprot)\n",
    "        for pep in prot_pepts[bestprot]:\n",
    "            for k in pept_prots[pep]:\n",
    "                prot_pepts_count[k] -= 1\n",
    "                prot_pepts_count2[k] -= 1\n",
    "            del pept_prots[pep]\n",
    "            \n",
    "        for k, v in list(prot_pepts_count2.items()):\n",
    "            if v == 0:\n",
    "                del prot_pepts_count[k]\n",
    "                del prot_pepts_count2[k]\n",
    "    df['groupleader'] = df['dbname'].apply(lambda x: x in tostay)\n",
    "    df['all proteins'] = df['dbname'].apply(lambda x: ';'.join(prot_prots[x]))"
   ]
  },
  {
   "cell_type": "code",
   "execution_count": null,
   "metadata": {},
   "outputs": [],
   "source": []
  }
 ],
 "metadata": {
  "kernelspec": {
   "display_name": "Python 3",
   "language": "python",
   "name": "python3"
  },
  "language_info": {
   "codemirror_mode": {
    "name": "ipython",
    "version": 3
   },
   "file_extension": ".py",
   "mimetype": "text/x-python",
   "name": "python",
   "nbconvert_exporter": "python",
   "pygments_lexer": "ipython3",
   "version": "3.9.1"
  }
 },
 "nbformat": 4,
 "nbformat_minor": 4
}
