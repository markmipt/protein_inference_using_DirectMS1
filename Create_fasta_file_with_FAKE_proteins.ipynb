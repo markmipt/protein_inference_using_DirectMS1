{
 "cells": [
  {
   "cell_type": "code",
   "execution_count": 12,
   "metadata": {},
   "outputs": [],
   "source": [
    "from pyteomics import fasta\n",
    "import pandas as pd\n",
    "import os\n",
    "import random\n",
    "import bisect\n",
    "from collections import defaultdict, Counter"
   ]
  },
  {
   "cell_type": "code",
   "execution_count": 13,
   "metadata": {},
   "outputs": [],
   "source": [
    "# Replace path to your input fasta file\n",
    "infastafile = '/home/mark/test_protein_inference/SP_human_12112020.fasta'\n",
    "\n",
    "sp_human = dict()\n",
    "with fasta.read(infastafile) as f:\n",
    "    for name, sequence in f:\n",
    "        sp_human[name.split('|')[1]] = sequence"
   ]
  },
  {
   "cell_type": "code",
   "execution_count": 14,
   "metadata": {},
   "outputs": [],
   "source": [
    "def cdf(weights):\n",
    "    total = sum(weights)\n",
    "    result = []\n",
    "    cumsum = 0\n",
    "    for w in weights:\n",
    "        cumsum += w\n",
    "        result.append(cumsum / total)\n",
    "    return result\n",
    "\n",
    "def choice(population, weights):\n",
    "    assert len(population) == len(weights)\n",
    "    cdf_vals = cdf(weights)\n",
    "    x = random.random()\n",
    "    idx = bisect.bisect(cdf_vals, x)\n",
    "    return population[idx]"
   ]
  },
  {
   "cell_type": "code",
   "execution_count": 15,
   "metadata": {},
   "outputs": [],
   "source": [
    "ff = \"\".join(sp_human.values())\n",
    "weights = (pd.Series(Counter(ff)) / len(ff)).values\n",
    "population = (pd.Series(Counter(ff)) / len(ff)).index"
   ]
  },
  {
   "cell_type": "code",
   "execution_count": 16,
   "metadata": {},
   "outputs": [
    {
     "data": {
      "text/plain": [
       "array([2.13210226e-02, 7.01296578e-02, 8.32970596e-02, 5.73202700e-02,\n",
       "       4.76880370e-02, 5.35183507e-02, 7.10154522e-02, 5.96488575e-02,\n",
       "       2.62231223e-02, 5.63628376e-02, 4.33753228e-02, 3.58980389e-02,\n",
       "       6.57433694e-02, 4.73719145e-02, 3.64938489e-02, 2.66371971e-02,\n",
       "       6.31583283e-02, 9.96277991e-02, 1.21557569e-02, 2.30105885e-02,\n",
       "       3.16826608e-06])"
      ]
     },
     "execution_count": 16,
     "metadata": {},
     "output_type": "execute_result"
    }
   ],
   "source": [
    "weights"
   ]
  },
  {
   "cell_type": "code",
   "execution_count": 17,
   "metadata": {},
   "outputs": [
    {
     "data": {
      "text/plain": [
       "Index(['M', 'A', 'S', 'K', 'Q', 'T', 'E', 'V', 'H', 'R', 'I', 'N', 'G', 'D',\n",
       "       'F', 'Y', 'P', 'L', 'W', 'C', 'U'],\n",
       "      dtype='object')"
      ]
     },
     "execution_count": 17,
     "metadata": {},
     "output_type": "execute_result"
    }
   ],
   "source": [
    "population"
   ]
  },
  {
   "cell_type": "code",
   "execution_count": 18,
   "metadata": {},
   "outputs": [
    {
     "data": {
      "text/plain": [
       "20385"
      ]
     },
     "execution_count": 18,
     "metadata": {},
     "output_type": "execute_result"
    }
   ],
   "source": [
    "# Fraction of proteins in the database which should be used for FAKE protein generation. 1.0 means 100%:\n",
    "per = 1.0\n",
    "\n",
    "smpl = random.sample(list(sp_human.keys()), int(per * len(sp_human)))\n",
    "len(smpl)"
   ]
  },
  {
   "cell_type": "code",
   "execution_count": 19,
   "metadata": {},
   "outputs": [],
   "source": [
    "fasta_1 = sp_human.copy()\n",
    "percents = [0.01, 0.05, 0.25]\n",
    "for start, p  in zip(range(len(percents)), percents):\n",
    "    for name in smpl[start::3]:\n",
    "        try:\n",
    "            positions = random.sample(range(len(fasta_1[name])), max(1, int(p * len(fasta_1[name]))))\n",
    "        except ValueError:\n",
    "            print(number, name, fasta_1[name])\n",
    "            positions = range(number)\n",
    "        seq = fasta_1[name]\n",
    "        for i in positions:\n",
    "            cur_aa = seq[i]\n",
    "            new_aa = seq[i]\n",
    "            while cur_aa == new_aa:\n",
    "                new_aa = choice(population, weights)\n",
    "            seq = seq[:i] + new_aa + seq[i + 1:]\n",
    "        fasta_1[\"ZFAKE{}_\".format(start + 1) + name] = seq"
   ]
  },
  {
   "cell_type": "code",
   "execution_count": 20,
   "metadata": {},
   "outputs": [],
   "source": [
    "# Replace path to your output fasta file with FAKE proteins\n",
    "path_to_output_fasta = '/home/mark/test_protein_inference/swiss_prot_human_and_3_group_of_fakes.fasta'\n",
    "\n",
    "# Write output fasta file with both target and FAKE proteins\n",
    "fasta.write(fasta_1.items(), \n",
    "            output=path_to_output_fasta, \n",
    "            file_mode=\"w\")\n",
    "\n",
    "# Write output fasta file with both target and FAKE proteins and reversed DECOYS for all target and FAKE proteins\n",
    "fasta.write_decoy_db(source=path_to_output_fasta,\n",
    "                    output=open(path_to_output_fasta.replace('.fasta', '_with_reversed_decoys.fasta'), 'w'), mode='reverse').close()\n",
    "\n",
    "# Write output fasta file with both target and FAKE proteins and shuffled DECOYS for all target and FAKE proteins\n",
    "fasta.write_decoy_db(source=path_to_output_fasta,\n",
    "                    output=open(path_to_output_fasta.replace('.fasta', '_with_shuffled_decoys.fasta'), 'w'), mode='shuffle').close()"
   ]
  },
  {
   "cell_type": "code",
   "execution_count": null,
   "metadata": {},
   "outputs": [],
   "source": []
  }
 ],
 "metadata": {
  "kernelspec": {
   "display_name": "Python 3",
   "language": "python",
   "name": "python3"
  },
  "language_info": {
   "codemirror_mode": {
    "name": "ipython",
    "version": 3
   },
   "file_extension": ".py",
   "mimetype": "text/x-python",
   "name": "python",
   "nbconvert_exporter": "python",
   "pygments_lexer": "ipython3",
   "version": "3.9.1"
  }
 },
 "nbformat": 4,
 "nbformat_minor": 4
}
